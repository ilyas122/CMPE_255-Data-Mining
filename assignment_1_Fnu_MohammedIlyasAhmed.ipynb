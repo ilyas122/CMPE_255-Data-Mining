{
  "nbformat": 4,
  "nbformat_minor": 0,
  "metadata": {
    "colab": {
      "provenance": [],
      "include_colab_link": true
    },
    "kernelspec": {
      "name": "python3",
      "display_name": "Python 3"
    },
    "language_info": {
      "name": "python"
    }
  },
  "cells": [
    {
      "cell_type": "markdown",
      "metadata": {
        "id": "view-in-github",
        "colab_type": "text"
      },
      "source": [
        "<a href=\"https://colab.research.google.com/github/ilyas122/CMPE_255-Data-Mining/blob/main/assignment_1_Fnu_MohammedIlyasAhmed.ipynb\" target=\"_parent\"><img src=\"https://colab.research.google.com/assets/colab-badge.svg\" alt=\"Open In Colab\"/></a>"
      ]
    },
    {
      "cell_type": "code",
      "execution_count": null,
      "metadata": {
        "id": "mEF4ptAX5hFG"
      },
      "outputs": [],
      "source": [
        "# 1.Statistical Descriptions of Data and identification of outliers "
      ]
    },
    {
      "cell_type": "code",
      "source": [
        "# a. Classify each variable’s type \n",
        "import pandas as pd\n",
        "\n",
        "# Load the Excel file into a Pandas DataFrame\n",
        "df = pd.read_excel('housing.xlsx')\n",
        "df.info()"
      ],
      "metadata": {
        "colab": {
          "base_uri": "https://localhost:8080/"
        },
        "id": "ZAEcgas85t1u",
        "outputId": "416fe8f5-34fe-4ca4-9996-da48a0dfaea5"
      },
      "execution_count": null,
      "outputs": [
        {
          "output_type": "stream",
          "name": "stdout",
          "text": [
            "<class 'pandas.core.frame.DataFrame'>\n",
            "RangeIndex: 546 entries, 0 to 545\n",
            "Data columns (total 12 columns):\n",
            " #   Column    Non-Null Count  Dtype \n",
            "---  ------    --------------  ----- \n",
            " 0   price     546 non-null    int64 \n",
            " 1   lotsize   546 non-null    int64 \n",
            " 2   bedrooms  546 non-null    int64 \n",
            " 3   bathrms   546 non-null    int64 \n",
            " 4   stories   546 non-null    int64 \n",
            " 5   driveway  546 non-null    object\n",
            " 6   recroom   546 non-null    object\n",
            " 7   fullbase  546 non-null    object\n",
            " 8   gashw     546 non-null    object\n",
            " 9   airco     546 non-null    object\n",
            " 10  garagepl  546 non-null    int64 \n",
            " 11  prefarea  546 non-null    object\n",
            "dtypes: int64(6), object(6)\n",
            "memory usage: 51.3+ KB\n"
          ]
        }
      ]
    },
    {
      "cell_type": "markdown",
      "source": [
        "The sale price of a house is a quantitative variable because it is a numerical measurement on a continuous scale.\n",
        "\n",
        "The variable \"lot\" represents the size of the lot, and it is considered a quantitative variable because it can have any numerical value within a specific range.\n",
        "\n",
        "\"Bdms\" represents the number of bedrooms in a house, and it is a discrete variable because it can only take whole number values.\n",
        "\n",
        "Similarly, \"fb\" represents the number of full bathrooms in the house, and \"sty\" represents the style of the house, both of which are discrete variables as they can only take a limited number of categorical values.\n",
        "\n",
        "\"Drv,\" \"rec,\" \"ffin,\" \"ghw,\" and \"ca\" are all binary categorical variables because they only have two possible values: \"yes\" or \"no.\"\n",
        "\n",
        "Lastly, \"gar\" represents the number of garage spaces in the house, and it is a discrete variable since it can only take on whole number values."
      ],
      "metadata": {
        "id": "CvyrwB4Edkz4"
      }
    },
    {
      "cell_type": "code",
      "source": [
        "# b. Run descriptive statistics for price and lotsize \n",
        "print(df[['price', 'lotsize']].describe())"
      ],
      "metadata": {
        "colab": {
          "base_uri": "https://localhost:8080/"
        },
        "id": "792OQGY77rdP",
        "outputId": "34a7e615-8b20-4536-986a-bbc285d95ef2"
      },
      "execution_count": null,
      "outputs": [
        {
          "output_type": "stream",
          "name": "stdout",
          "text": [
            "               price       lotsize\n",
            "count     546.000000    546.000000\n",
            "mean    68121.597070   5150.265568\n",
            "std     26702.670926   2168.158725\n",
            "min     25000.000000   1650.000000\n",
            "25%     49125.000000   3600.000000\n",
            "50%     62000.000000   4600.000000\n",
            "75%     82000.000000   6360.000000\n",
            "max    190000.000000  16200.000000\n"
          ]
        }
      ]
    },
    {
      "cell_type": "code",
      "source": [
        "#c. Visualize boxplot for price and lotsize\n",
        "import matplotlib.pyplot as plt\n",
        "df.boxplot(column=['price', 'lotsize'])\n",
        "plt.show()\n",
        "\n",
        "\n"
      ],
      "metadata": {
        "colab": {
          "base_uri": "https://localhost:8080/",
          "height": 265
        },
        "id": "9g4kQRx17tV9",
        "outputId": "51a9a16a-871c-435e-b64a-1c579f64ae3c"
      },
      "execution_count": null,
      "outputs": [
        {
          "output_type": "display_data",
          "data": {
            "text/plain": [
              "<Figure size 432x288 with 1 Axes>"
            ],
            "image/png": "[encoded data removed]"
          },
          "metadata": {
            "needs_background": "light"
          }
        }
      ]
    },
    {
      "cell_type": "code",
      "source": [
        "#d. Identify outliers for price and lotsize \n",
        "\n",
        "Q1 = df[['price', 'lotsize']].quantile(0.25)\n",
        "Q3 = df[['price', 'lotsize']].quantile(0.75)\n",
        "IQR = Q3 - Q1\n",
        "\n",
        "print((df[['price', 'lotsize']] < (Q1 - 1.5 * IQR)) | (df[['price', 'lotsize']] > (Q3 + 1.5 * IQR)))"
      ],
      "metadata": {
        "colab": {
          "base_uri": "https://localhost:8080/"
        },
        "id": "dKH_ezk88U5X",
        "outputId": "db00002c-a245-47c3-9510-047472af5b46"
      },
      "execution_count": null,
      "outputs": [
        {
          "output_type": "stream",
          "name": "stdout",
          "text": [
            "     price  lotsize\n",
            "0    False    False\n",
            "1    False    False\n",
            "2    False    False\n",
            "3    False    False\n",
            "4    False    False\n",
            "..     ...      ...\n",
            "541  False    False\n",
            "542  False    False\n",
            "543  False    False\n",
            "544  False    False\n",
            "545  False    False\n",
            "\n",
            "[546 rows x 2 columns]\n"
          ]
        }
      ]
    },
    {
      "cell_type": "code",
      "source": [
        "# Calculate the lower and upper bounds for outliers\n",
        "lower_bound = Q1 - 1.5 * IQR\n",
        "upper_bound = Q3 + 1.5 * IQR\n",
        "\n",
        "# Identify the outliers for price and lotsize columns\n",
        "price_outliers = df[(df['price'] < lower_bound['price']) | (df['price'] > upper_bound['price'])]\n",
        "lotsize_outliers = df[(df['lotsize'] < lower_bound['lotsize']) | (df['lotsize'] > upper_bound['lotsize'])]\n",
        "\n",
        "# Print the outliers\n",
        "print('Price outliers:')\n",
        "print(price_outliers)\n",
        "print('Lotsize outliers:')\n",
        "print(lotsize_outliers)"
      ],
      "metadata": {
        "colab": {
          "base_uri": "https://localhost:8080/"
        },
        "id": "t2EirC3l8Y8-",
        "outputId": "4092db6e-927b-47a3-bb87-3158a729d854"
      },
      "execution_count": null,
      "outputs": [
        {
          "output_type": "stream",
          "name": "stdout",
          "text": [
            "Price outliers:\n",
            "      price  lotsize  bedrooms  bathrms  stories driveway recroom fullbase  \\\n",
            "92   163000     7420         4        1        2      yes     yes      yes   \n",
            "103  132000     3500         4        2        2      yes      no       no   \n",
            "216  138300     6000         4        3        2      yes     yes      yes   \n",
            "331  175000     8960         4        4        4      yes      no       no   \n",
            "337  155000     7500         3        3        1      yes      no      yes   \n",
            "338  141000     8100         4        1        2      yes     yes      yes   \n",
            "361  145000     8580         4        3        4      yes      no       no   \n",
            "362  175000     9960         3        2        2      yes      no      yes   \n",
            "368  145000    16200         5        3        2      yes      no       no   \n",
            "375  133000     6550         4        2        2      yes      no       no   \n",
            "376  140000     5750         3        2        4      yes     yes       no   \n",
            "377  190000     7420         4        2        3      yes      no       no   \n",
            "382  140000    13200         3        1        2      yes      no      yes   \n",
            "418  174500     7500         4        2        2      yes      no      yes   \n",
            "436  132000     7800         3        2        2      yes      no       no   \n",
            "\n",
            "    gashw airco  garagepl prefarea  \n",
            "92     no   yes         2       no  \n",
            "103   yes    no         2       no  \n",
            "216   yes    no         2       no  \n",
            "331    no   yes         3       no  \n",
            "337    no   yes         2      yes  \n",
            "338    no   yes         2      yes  \n",
            "361    no   yes         2      yes  \n",
            "362    no    no         2      yes  \n",
            "368    no    no         0       no  \n",
            "375    no   yes         1      yes  \n",
            "376    no   yes         1      yes  \n",
            "377    no   yes         2      yes  \n",
            "382    no   yes         2      yes  \n",
            "418    no   yes         3      yes  \n",
            "436    no    no         0      yes  \n",
            "Lotsize outliers:\n",
            "      price  lotsize  bedrooms  bathrms  stories driveway recroom fullbase  \\\n",
            "358   97000    12090         4        2        2      yes      no       no   \n",
            "363   72000    10700         3        1        2      yes     yes      yes   \n",
            "364   84900    15600         3        1        1      yes      no       no   \n",
            "365   99000    13200         2        1        1      yes      no      yes   \n",
            "368  145000    16200         5        3        2      yes      no       no   \n",
            "382  140000    13200         3        1        2      yes      no      yes   \n",
            "386   83900    11460         3        1        3      yes      no       no   \n",
            "416  100000    11175         3        1        1      yes      no      yes   \n",
            "433   73000    11410         2        1        2      yes      no       no   \n",
            "445  104900    11440         4        1        2      yes      no      yes   \n",
            "490   50000    12944         3        1        1      yes      no       no   \n",
            "532   70000    12900         3        1        1      yes      no       no   \n",
            "\n",
            "    gashw airco  garagepl prefarea  \n",
            "358    no    no         2      yes  \n",
            "363    no    no         0       no  \n",
            "364    no   yes         2       no  \n",
            "365   yes    no         1       no  \n",
            "368    no    no         0       no  \n",
            "382    no   yes         2      yes  \n",
            "386    no    no         2      yes  \n",
            "416    no   yes         1      yes  \n",
            "433    no    no         0      yes  \n",
            "445    no    no         1      yes  \n",
            "490    no    no         0       no  \n",
            "532    no    no         2       no  \n"
          ]
        }
      ]
    },
    {
      "cell_type": "code",
      "source": [
        "# 2.Statistical Descriptions of Data and handling missing Values"
      ],
      "metadata": {
        "id": "nPkPJ0uy8eFA"
      },
      "execution_count": null,
      "outputs": []
    },
    {
      "cell_type": "code",
      "source": [
        "# a. Classify each variable’s type\n",
        "# Load the dataset into a Pandas DataFrame\n",
        "df = pd.read_csv('train.csv')\n",
        "df.info()"
      ],
      "metadata": {
        "colab": {
          "base_uri": "https://localhost:8080/"
        },
        "id": "7E669ucq8hPU",
        "outputId": "85eae780-3d6e-4167-974f-f97421735b7c"
      },
      "execution_count": null,
      "outputs": [
        {
          "output_type": "stream",
          "name": "stdout",
          "text": [
            "<class 'pandas.core.frame.DataFrame'>\n",
            "RangeIndex: 891 entries, 0 to 890\n",
            "Data columns (total 12 columns):\n",
            " #   Column       Non-Null Count  Dtype  \n",
            "---  ------       --------------  -----  \n",
            " 0   PassengerId  891 non-null    int64  \n",
            " 1   Survived     891 non-null    int64  \n",
            " 2   Pclass       891 non-null    int64  \n",
            " 3   Name         891 non-null    object \n",
            " 4   Sex          891 non-null    object \n",
            " 5   Age          714 non-null    float64\n",
            " 6   SibSp        891 non-null    int64  \n",
            " 7   Parch        891 non-null    int64  \n",
            " 8   Ticket       891 non-null    object \n",
            " 9   Fare         891 non-null    float64\n",
            " 10  Cabin        204 non-null    object \n",
            " 11  Embarked     889 non-null    object \n",
            "dtypes: float64(2), int64(5), object(5)\n",
            "memory usage: 83.7+ KB\n"
          ]
        }
      ]
    },
    {
      "cell_type": "markdown",
      "source": [
        "\n",
        "The variable \"survival\" is binary categorical as it represents whether a passenger survived or not. \n",
        "\n",
        "\"Pclass\" is ordinal categorical as it has a natural order of values, which are first class, second class, and third class. \n",
        "\n",
        "\"Name,\" \"ticket,\" \"cabin,\" and \"embarked\" are nominal categorical variables because the values do not have a natural order or ranking. \n",
        "\n",
        "\"Sex\" is binary categorical as it can only take two possible values, male or female. \"Age,\" \"sibsp,\" and \"parch\" are discrete quantitative variables as they only take on whole number values. \n",
        "\n",
        "\"Fare\" is a continuous quantitative variable as it can take on any numerical value within a specific interval, such as from 0 to infinity.\n"
      ],
      "metadata": {
        "id": "QEVCnMlkeu-e"
      }
    },
    {
      "cell_type": "code",
      "source": [
        "# b. Run descriptive statistics for Age and Fare \n",
        "print(df[['Age', 'Fare']].describe())"
      ],
      "metadata": {
        "colab": {
          "base_uri": "https://localhost:8080/"
        },
        "id": "CIEpOTVW8oLb",
        "outputId": "3f403450-b22c-4865-84c1-ddcb46754f0b"
      },
      "execution_count": null,
      "outputs": [
        {
          "output_type": "stream",
          "name": "stdout",
          "text": [
            "              Age        Fare\n",
            "count  714.000000  891.000000\n",
            "mean    29.699118   32.204208\n",
            "std     14.526497   49.693429\n",
            "min      0.420000    0.000000\n",
            "25%     20.125000    7.910400\n",
            "50%     28.000000   14.454200\n",
            "75%     38.000000   31.000000\n",
            "max     80.000000  512.329200\n"
          ]
        }
      ]
    },
    {
      "cell_type": "code",
      "source": [
        "#d.Fill in the missing values in Age and explain the method you used.\n",
        "\n",
        "# Compute the mean of Age column\n",
        "age_mean = df['Age'].mean()\n",
        "\n",
        "# Fill in the missing values in Age column with the mean\n",
        "df['Age'].fillna(age_mean, inplace=True)\n",
        "df.info()\n",
        "\n"
      ],
      "metadata": {
        "colab": {
          "base_uri": "https://localhost:8080/"
        },
        "id": "JciwqEXT8x5W",
        "outputId": "502ae40b-74c2-441b-9e66-8b3ce6e073b1"
      },
      "execution_count": null,
      "outputs": [
        {
          "output_type": "stream",
          "name": "stdout",
          "text": [
            "<class 'pandas.core.frame.DataFrame'>\n",
            "RangeIndex: 891 entries, 0 to 890\n",
            "Data columns (total 12 columns):\n",
            " #   Column       Non-Null Count  Dtype  \n",
            "---  ------       --------------  -----  \n",
            " 0   PassengerId  891 non-null    int64  \n",
            " 1   Survived     891 non-null    int64  \n",
            " 2   Pclass       891 non-null    int64  \n",
            " 3   Name         891 non-null    object \n",
            " 4   Sex          891 non-null    object \n",
            " 5   Age          891 non-null    float64\n",
            " 6   SibSp        891 non-null    int64  \n",
            " 7   Parch        891 non-null    int64  \n",
            " 8   Ticket       891 non-null    object \n",
            " 9   Fare         891 non-null    float64\n",
            " 10  Cabin        204 non-null    object \n",
            " 11  Embarked     889 non-null    object \n",
            "dtypes: float64(2), int64(5), object(5)\n",
            "memory usage: 83.7+ KB\n"
          ]
        }
      ]
    },
    {
      "cell_type": "markdown",
      "source": [
        "There are various methods for handling missing data, such as ignoring it, manually filling in values, using global constants, and inferring values from the available data. In this case, the chosen approach is to impute the missing values for the 'age' attribute by calculating its mean and replacing the missing values with this mean value. This is a common technique known as mean imputation, which is straightforward and can be effective in cases where there is a limited amount of missing data. However, mean imputation has some limitations, such as its potential to distort the distribution of the data and its underlying assumption that the missing data is random. Despite these limitations, mean imputation remains a popular and useful method for handling missing data in various contexts."
      ],
      "metadata": {
        "id": "vTUy7E1Tfkpe"
      }
    },
    {
      "cell_type": "markdown",
      "source": [
        "# New Section"
      ],
      "metadata": {
        "id": "STpfGR0s5_2z"
      }
    },
    {
      "cell_type": "code",
      "source": [
        "# c. Visualize boxplot for Age and Fare \n",
        "df.boxplot(column=['Age', 'Fare'])\n",
        "plt.show()"
      ],
      "metadata": {
        "colab": {
          "base_uri": "https://localhost:8080/",
          "height": 265
        },
        "id": "a7NJELpq834M",
        "outputId": "13e50b79-7c9a-4191-d918-bfc91888210e"
      },
      "execution_count": null,
      "outputs": [
        {
          "output_type": "display_data",
          "data": {
            "text/plain": [
              "<Figure size 432x288 with 1 Axes>"
            ],
            "image/png": "[encoded data removed]"
          },
          "metadata": {
            "needs_background": "light"
          }
        }
      ]
    }
  ]
}